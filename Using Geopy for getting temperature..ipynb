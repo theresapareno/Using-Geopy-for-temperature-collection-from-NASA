{
 "cells": [
  {
   "cell_type": "code",
   "execution_count": 6,
   "metadata": {},
   "outputs": [],
   "source": [
    "import pandas as pd \n",
    "import numpy as np \n",
    "import os, json, urllib, requests, webbrowser"
   ]
  },
  {
   "cell_type": "code",
   "execution_count": 8,
   "metadata": {},
   "outputs": [
    {
     "name": "stderr",
     "output_type": "stream",
     "text": [
      "C:\\Users\\rezan\\AppData\\Local\\Continuum\\anaconda3\\envs\\thesis_env\\lib\\site-packages\\ipykernel_launcher.py:5: DeprecationWarning: Using Nominatim with the default \"geopy/1.22.0\" `user_agent` is strongly discouraged, as it violates Nominatim's ToS https://operations.osmfoundation.org/policies/nominatim/ and may possibly cause 403 and 429 HTTP errors. Please specify a custom `user_agent` with `Nominatim(user_agent=\"my-application\")` or by overriding the default `user_agent`: `geopy.geocoders.options.default_user_agent = \"my-application\"`. In geopy 2.0 this will become an exception.\n",
      "  \"\"\"\n"
     ]
    }
   ],
   "source": [
    "\n",
    "from geopy.geocoders import Nominatim\n",
    "geolocator = Nominatim(user_agent = \"geopy/1.22.0\")\n",
    "output = \"CSV\"\n",
    "\n",
    "# search the location of the place. in Latitude and longitude\n",
    "place = ['Sacramento']\n",
    "invalid_place = []\n",
    "\n",
    "for loc in place:\n",
    "    location = geolocator.geocode(str(loc))\n",
    "    \n",
    "    try: \n",
    "        locations = [(location.latitude, location.longitude)]\n",
    "        output_folder = r'C:\\Users\\rezan\\Documents\\Master in Applied Data Science\\2nd Year\\MASTER THESIS\\GIT THESIS\\geopy' # if r'' the location of the script is where the files will be outputted.\n",
    "        base_url = r\"https://power.larc.nasa.gov/cgi-bin/v1/DataAccess.py?request=execute&identifier=SinglePoint&tempAverage=INTERANNUAL&parameters=T2M,RH2M&startDate=1981&endDate=2019&lat={latitude}&lon={longitude}&outputList={output}&userCommunity=SSE\"\n",
    "\n",
    "        for latitude, longitude in locations:\n",
    "            api_request_url = base_url.format(longitude=longitude, latitude=latitude, output=output.upper())\n",
    "\n",
    "            # Python Memory Object\n",
    "            json_response = json.loads(requests.get(api_request_url).content.decode('utf-8'))\n",
    "\n",
    "            # Selects the file URL from the JSON response\n",
    "            csv_request_url = json_response['outputs'][output.lower()]\n",
    "            #print('csv_request_url: ',csv_request_url)\n",
    "\n",
    "            # Download File to Folder\n",
    "            output_file_location = os.path.join(output_folder,str(loc)+'.csv') # os.path.basename(csv_request_url)+\n",
    "            #print('output file location: ', output_file_location)\n",
    "            urllib.request.urlretrieve(csv_request_url, output_file_location)\n",
    "            \n",
    "    except:\n",
    "        invalid_place.append(loc)\n"
   ]
  }
 ],
 "metadata": {
  "kernelspec": {
   "display_name": "Python 3",
   "language": "python",
   "name": "python3"
  },
  "language_info": {
   "codemirror_mode": {
    "name": "ipython",
    "version": 3
   },
   "file_extension": ".py",
   "mimetype": "text/x-python",
   "name": "python",
   "nbconvert_exporter": "python",
   "pygments_lexer": "ipython3",
   "version": "3.7.1"
  }
 },
 "nbformat": 4,
 "nbformat_minor": 4
}
